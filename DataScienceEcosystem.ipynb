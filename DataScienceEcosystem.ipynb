{
 "cells": [
  {
   "cell_type": "markdown",
   "id": "5e068dc7",
   "metadata": {},
   "source": [
    "# Data Science Tools and Ecosystem"
   ]
  },
  {
   "cell_type": "markdown",
   "id": "cfbd9804",
   "metadata": {},
   "source": [
    "In this notebook, Data Science Tools and Ecosystems are summarized."
   ]
  },
  {
   "cell_type": "markdown",
   "id": "045697e0",
   "metadata": {},
   "source": [
    "**Objectives:**\n",
    "* List popular languages for Data Science\n",
    "* List commonly used libraries in Data Science\n",
    "* Table of popular development environment open source tools used in Data Science\n",
    "* Examples of evaluating arithmetic expressions in Python"
   ]
  },
  {
   "cell_type": "markdown",
   "id": "15afaf99",
   "metadata": {},
   "source": [
    "Some of the popular languages that Data Scientists use are:\n",
    "1. Python\n",
    "1. R\n",
    "1. SQL\n",
    "1. Java\n",
    "1. Julia\n",
    "1. Scala\n",
    "1. C and C++"
   ]
  },
  {
   "cell_type": "markdown",
   "id": "f3c8323f",
   "metadata": {},
   "source": [
    "Some of the commonly used libraries used by Data Scientists include:\n",
    "1. NumPy\n",
    "1. Pandas\n",
    "1. SciPy\n",
    "1. Matplotlib\n",
    "1. SciKit-Learn"
   ]
  },
  {
   "cell_type": "markdown",
   "id": "c8ce8968",
   "metadata": {},
   "source": [
    "| Data Science Tools | \n",
    "|--------------------|\n",
    "|      RStudio       |  \n",
    "|      Jupyter       |  \n",
    "|      Spyder        |  "
   ]
  },
  {
   "cell_type": "markdown",
   "id": "9260276f",
   "metadata": {},
   "source": [
    "### Below are a few examples of evaluating arithmetic expressions in Python."
   ]
  },
  {
   "cell_type": "code",
   "execution_count": 1,
   "id": "af77a785",
   "metadata": {},
   "outputs": [
    {
     "data": {
      "text/plain": [
       "17"
      ]
     },
     "execution_count": 1,
     "metadata": {},
     "output_type": "execute_result"
    }
   ],
   "source": [
    "# This is a simple arithmetic expression to multiply then add integers\n",
    "(3*4)+5"
   ]
  },
  {
   "cell_type": "code",
   "execution_count": 2,
   "id": "df3442e2",
   "metadata": {},
   "outputs": [
    {
     "data": {
      "text/plain": [
       "3.3333333333333335"
      ]
     },
     "execution_count": 2,
     "metadata": {},
     "output_type": "execute_result"
    }
   ],
   "source": [
    "# This will convert 200 minutes to hours by dividing by 60\n",
    "minutes = 200\n",
    "hours = minutes / 60\n",
    "hours"
   ]
  },
  {
   "cell_type": "markdown",
   "id": "d80b866b",
   "metadata": {},
   "source": [
    "## Author\n",
    "Monique Brogan"
   ]
  },
  {
   "cell_type": "code",
   "execution_count": null,
   "id": "fb421063",
   "metadata": {},
   "outputs": [],
   "source": []
  }
 ],
 "metadata": {
  "kernelspec": {
   "display_name": "Python 3 (ipykernel)",
   "language": "python",
   "name": "python3"
  },
  "language_info": {
   "codemirror_mode": {
    "name": "ipython",
    "version": 3
   },
   "file_extension": ".py",
   "mimetype": "text/x-python",
   "name": "python",
   "nbconvert_exporter": "python",
   "pygments_lexer": "ipython3",
   "version": "3.9.13"
  }
 },
 "nbformat": 4,
 "nbformat_minor": 5
}
